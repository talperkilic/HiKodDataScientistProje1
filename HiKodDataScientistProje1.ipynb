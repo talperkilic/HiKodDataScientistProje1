{
 "cells": [
  {
   "cell_type": "markdown",
   "id": "032d81b2",
   "metadata": {},
   "source": [
    "# 1\n",
    "x = 3 ----> floata çevirelim. Çevirdikten sonra beri tipinide yazdıralım.\n",
    "\n",
    "y = 4.5 -----> integere çevirelim. Çevirdikten sonra beri tipinide yazdıralım.\n",
    "\n",
    "z = \"8\" -----> integera çevirelim. Çevirdikten sonra beri tipinide yazdıralım.\n",
    "\n",
    "a = \"12\" -----> floata çevirelim. Çevirdikten sonra beri tipinide yazdıralım.\n",
    "\n",
    "b = \"46.8\" ------> integera çevirelim. Çevirdikten sonra beri tipinide yazdıralım."
   ]
  },
  {
   "cell_type": "code",
   "id": "f1b735c0",
   "metadata": {
    "ExecuteTime": {
     "end_time": "2024-12-23T19:05:11.775454Z",
     "start_time": "2024-12-23T19:05:11.771961Z"
    }
   },
   "source": [
    "x = 7\n",
    "type"
   ],
   "outputs": [
    {
     "data": {
      "text/plain": [
       "type"
      ]
     },
     "execution_count": 10,
     "metadata": {},
     "output_type": "execute_result"
    }
   ],
   "execution_count": 10
  },
  {
   "metadata": {
    "ExecuteTime": {
     "end_time": "2024-12-23T19:05:12.084452Z",
     "start_time": "2024-12-23T19:05:12.080169Z"
    }
   },
   "cell_type": "code",
   "source": [
    "y = 3.5\n",
    "y = int(y)\n",
    "type(y)"
   ],
   "id": "8ae040fc2035756d",
   "outputs": [
    {
     "data": {
      "text/plain": [
       "int"
      ]
     },
     "execution_count": 11,
     "metadata": {},
     "output_type": "execute_result"
    }
   ],
   "execution_count": 11
  },
  {
   "metadata": {
    "ExecuteTime": {
     "end_time": "2024-12-23T19:05:12.470276Z",
     "start_time": "2024-12-23T19:05:12.466781Z"
    }
   },
   "cell_type": "code",
   "source": [
    "z = \"4\"\n",
    "type(z)"
   ],
   "id": "2a47002bc6e839de",
   "outputs": [
    {
     "data": {
      "text/plain": [
       "str"
      ]
     },
     "execution_count": 12,
     "metadata": {},
     "output_type": "execute_result"
    }
   ],
   "execution_count": 12
  },
  {
   "metadata": {
    "ExecuteTime": {
     "end_time": "2024-12-23T19:05:12.656435Z",
     "start_time": "2024-12-23T19:05:12.652692Z"
    }
   },
   "cell_type": "code",
   "source": [
    "z = int(z)\n",
    "type(z)"
   ],
   "id": "c4d21bccd7390c45",
   "outputs": [
    {
     "data": {
      "text/plain": [
       "int"
      ]
     },
     "execution_count": 13,
     "metadata": {},
     "output_type": "execute_result"
    }
   ],
   "execution_count": 13
  },
  {
   "metadata": {
    "ExecuteTime": {
     "end_time": "2024-12-23T19:05:13.105917Z",
     "start_time": "2024-12-23T19:05:13.101989Z"
    }
   },
   "cell_type": "code",
   "source": [
    "a = \"7\"\n",
    "type(a)"
   ],
   "id": "abb021645c90e139",
   "outputs": [
    {
     "data": {
      "text/plain": [
       "str"
      ]
     },
     "execution_count": 14,
     "metadata": {},
     "output_type": "execute_result"
    }
   ],
   "execution_count": 14
  },
  {
   "metadata": {
    "ExecuteTime": {
     "end_time": "2024-12-23T19:05:42.160872Z",
     "start_time": "2024-12-23T19:05:42.157394Z"
    }
   },
   "cell_type": "code",
   "source": [
    "a = \"12\"\n",
    "type(a)"
   ],
   "id": "1dd37f85ff12f7e7",
   "outputs": [
    {
     "data": {
      "text/plain": [
       "str"
      ]
     },
     "execution_count": 15,
     "metadata": {},
     "output_type": "execute_result"
    }
   ],
   "execution_count": 15
  },
  {
   "metadata": {
    "ExecuteTime": {
     "end_time": "2024-12-23T19:06:54.783897Z",
     "start_time": "2024-12-23T19:06:54.779789Z"
    }
   },
   "cell_type": "code",
   "source": [
    "b = \"48.6\"\n",
    "type(b)"
   ],
   "id": "ee5e4a04f7d028af",
   "outputs": [
    {
     "data": {
      "text/plain": [
       "str"
      ]
     },
     "execution_count": 16,
     "metadata": {},
     "output_type": "execute_result"
    }
   ],
   "execution_count": 16
  },
  {
   "metadata": {
    "ExecuteTime": {
     "end_time": "2024-12-23T19:07:16.127800Z",
     "start_time": "2024-12-23T19:07:16.124225Z"
    }
   },
   "cell_type": "code",
   "source": [
    "b = int(float(b))\n",
    "type(b)"
   ],
   "id": "9f338ba8552440d3",
   "outputs": [
    {
     "data": {
      "text/plain": [
       "int"
      ]
     },
     "execution_count": 17,
     "metadata": {},
     "output_type": "execute_result"
    }
   ],
   "execution_count": 17
  },
  {
   "metadata": {},
   "cell_type": "markdown",
   "source": [
    "# 2\n",
    "İsimlerden oluşan üç değişkene yaş değerleri atanır. Belirlenen üç değişken birbiriyle karşılaştırma operatörleri ile karşılaştırılır. Bu karşılaştırmalara mantıksal operatörler de eklenir."
   ],
   "id": "95509718"
  },
  {
   "cell_type": "code",
   "id": "50f77b4f",
   "metadata": {
    "ExecuteTime": {
     "end_time": "2024-12-23T19:08:06.620576Z",
     "start_time": "2024-12-23T19:08:06.618031Z"
    }
   },
   "source": [
    "alper = 38\n",
    "damla = 30\n",
    "kadir = 23"
   ],
   "outputs": [],
   "execution_count": 18
  },
  {
   "metadata": {
    "ExecuteTime": {
     "end_time": "2024-12-23T19:08:15.273299Z",
     "start_time": "2024-12-23T19:08:15.269714Z"
    }
   },
   "cell_type": "code",
   "source": "damla > alper",
   "id": "58b8bbd6306b984a",
   "outputs": [
    {
     "data": {
      "text/plain": [
       "False"
      ]
     },
     "execution_count": 19,
     "metadata": {},
     "output_type": "execute_result"
    }
   ],
   "execution_count": 19
  },
  {
   "metadata": {
    "ExecuteTime": {
     "end_time": "2024-12-23T19:08:19.648209Z",
     "start_time": "2024-12-23T19:08:19.644817Z"
    }
   },
   "cell_type": "code",
   "source": "alper > damla",
   "id": "daa10b740b0cac57",
   "outputs": [
    {
     "data": {
      "text/plain": [
       "True"
      ]
     },
     "execution_count": 20,
     "metadata": {},
     "output_type": "execute_result"
    }
   ],
   "execution_count": 20
  },
  {
   "metadata": {
    "ExecuteTime": {
     "end_time": "2024-12-23T19:08:26.745018Z",
     "start_time": "2024-12-23T19:08:26.740287Z"
    }
   },
   "cell_type": "code",
   "source": "kadir > damla",
   "id": "294b127a95e224bc",
   "outputs": [
    {
     "data": {
      "text/plain": [
       "False"
      ]
     },
     "execution_count": 21,
     "metadata": {},
     "output_type": "execute_result"
    }
   ],
   "execution_count": 21
  },
  {
   "metadata": {
    "ExecuteTime": {
     "end_time": "2024-12-23T19:09:19.085673Z",
     "start_time": "2024-12-23T19:09:19.082186Z"
    }
   },
   "cell_type": "code",
   "source": "damla > kadir < alper",
   "id": "ce4853a32399d1be",
   "outputs": [
    {
     "data": {
      "text/plain": [
       "True"
      ]
     },
     "execution_count": 25,
     "metadata": {},
     "output_type": "execute_result"
    }
   ],
   "execution_count": 25
  },
  {
   "metadata": {
    "ExecuteTime": {
     "end_time": "2024-12-23T19:13:09.714638Z",
     "start_time": "2024-12-23T19:13:09.708343Z"
    }
   },
   "cell_type": "code",
   "source": "alper > kadir or damla",
   "id": "caa85a4ecba3f8ef",
   "outputs": [
    {
     "data": {
      "text/plain": [
       "True"
      ]
     },
     "execution_count": 28,
     "metadata": {},
     "output_type": "execute_result"
    }
   ],
   "execution_count": 28
  },
  {
   "cell_type": "markdown",
   "id": "a1a0eb92",
   "metadata": {},
   "source": [
    "# 3\n",
    "Kullanıcıdan iki değer girmesini istenir. Girilen değerlerin toplama, çıkarma, çarpma, bölme sonuçlarını yazdırılır."
   ]
  },
  {
   "cell_type": "code",
   "id": "c361e45a",
   "metadata": {
    "ExecuteTime": {
     "end_time": "2024-12-23T19:19:25.138041Z",
     "start_time": "2024-12-23T19:19:06.868408Z"
    }
   },
   "source": [
    "sayi = int(input(\"Bir sayı giriniz\"))\n",
    "sayi1 = int(input(\"Bir sayı giriniz\"))\n",
    "topla = sayi + sayi1\n",
    "cikar = sayi - sayi1\n",
    "carp = sayi * sayi1\n",
    "bolme = sayi / sayi1\n",
    "print(\"Toplama:\",topla)\n",
    "print(\"Çıkarma\",cikar)\n",
    "print(\"Çarpma\",carp)\n",
    "print(\"Bölme\",bolme)"
   ],
   "outputs": [
    {
     "name": "stdout",
     "output_type": "stream",
     "text": [
      "Toplama: 42\n",
      "Çıkarma -12\n",
      "Çarpma 405\n",
      "Bölme 0.5555555555555556\n"
     ]
    }
   ],
   "execution_count": 29
  },
  {
   "cell_type": "markdown",
   "id": "060b0bea",
   "metadata": {},
   "source": [
    "# 4\n",
    "Kullanıcıdan isim, yaş, şehir ve meslek bilgilerini istenir ve cevaplarını yazdırılır."
   ]
  },
  {
   "cell_type": "code",
   "id": "6f5dea59",
   "metadata": {
    "ExecuteTime": {
     "end_time": "2024-12-23T19:21:17.805538Z",
     "start_time": "2024-12-23T19:20:58.781755Z"
    }
   },
   "source": [
    "isim = input(\"İsim Giriniz\")\n",
    "yas = input(\"Yaş Giriniz\")\n",
    "sehir = input(\"Şehir Giriniz\")\n",
    "meslek = input(\"Meslek Giriniz\")\n",
    "\n",
    "print(isim,yas,sehir,meslek)"
   ],
   "outputs": [
    {
     "name": "stdout",
     "output_type": "stream",
     "text": [
      "ahmet 12 adana doktor\n"
     ]
    }
   ],
   "execution_count": 30
  },
  {
   "cell_type": "markdown",
   "id": "55e1a34e",
   "metadata": {},
   "source": [
    "# 5\n",
    "\"Hi-Kod Veri Bilimi Atölyesi\" ifadesini bir değişkene tanımlanır.\n",
    "\n",
    "\n",
    " 1. İfadedeki her bir kelimeyi (\"Hi-Kod\", \"Veri\", \"Bilimi\", \"Atölyesi\") değişken içinden seçilir. \n",
    " 2. İfadeyi hepsini büyük harf olacak hale çevrilir. (\"HI-KOD VERİ BİLİMİ ATÖLYESİ\") \n",
    " 3. İfadeyi hepsini büyük harf olacak hale çevrilir.(\"hi-kod veri bilimi atölyesi\") \n",
    "\n",
    "\"0123456789\" ifadesindeki yalnızca çift sayıları ve yalnızca tek sayıları seçilir. (\"02468\", \"13579\")"
   ]
  },
  {
   "cell_type": "code",
   "id": "0fc1bc40",
   "metadata": {
    "ExecuteTime": {
     "end_time": "2024-12-23T19:22:41.574476Z",
     "start_time": "2024-12-23T19:22:41.570598Z"
    }
   },
   "source": "atolye = \"Hi Kod Veri Bilimi Atölyesi\"",
   "outputs": [],
   "execution_count": 31
  },
  {
   "metadata": {
    "ExecuteTime": {
     "end_time": "2024-12-23T19:22:43.300578Z",
     "start_time": "2024-12-23T19:22:43.296986Z"
    }
   },
   "cell_type": "code",
   "source": "print(atolye[0:6])",
   "id": "145ccc05e042c2a4",
   "outputs": [
    {
     "name": "stdout",
     "output_type": "stream",
     "text": [
      "Hi Kod\n"
     ]
    }
   ],
   "execution_count": 32
  },
  {
   "metadata": {
    "ExecuteTime": {
     "end_time": "2024-12-23T19:22:57.661874Z",
     "start_time": "2024-12-23T19:22:57.658537Z"
    }
   },
   "cell_type": "code",
   "source": "print(atolye[7:11])",
   "id": "c7376f7e6fe00fe7",
   "outputs": [
    {
     "name": "stdout",
     "output_type": "stream",
     "text": [
      "Veri\n"
     ]
    }
   ],
   "execution_count": 33
  },
  {
   "metadata": {
    "ExecuteTime": {
     "end_time": "2024-12-23T19:23:15.995682Z",
     "start_time": "2024-12-23T19:23:15.992353Z"
    }
   },
   "cell_type": "code",
   "source": "print(atolye[12:18])",
   "id": "86a15cc6a201e733",
   "outputs": [
    {
     "name": "stdout",
     "output_type": "stream",
     "text": [
      "Bilimi\n"
     ]
    }
   ],
   "execution_count": 35
  },
  {
   "metadata": {
    "ExecuteTime": {
     "end_time": "2024-12-23T19:24:00.958156Z",
     "start_time": "2024-12-23T19:24:00.954463Z"
    }
   },
   "cell_type": "code",
   "source": "print(atolye[19:])",
   "id": "a945eabac703d725",
   "outputs": [
    {
     "name": "stdout",
     "output_type": "stream",
     "text": [
      "Atölyesi\n"
     ]
    }
   ],
   "execution_count": 36
  },
  {
   "metadata": {
    "ExecuteTime": {
     "end_time": "2024-12-23T19:24:15.537020Z",
     "start_time": "2024-12-23T19:24:15.533862Z"
    }
   },
   "cell_type": "code",
   "source": "atolye.upper()",
   "id": "57475f7918e6b18c",
   "outputs": [
    {
     "data": {
      "text/plain": [
       "'HI KOD VERI BILIMI ATÖLYESI'"
      ]
     },
     "execution_count": 37,
     "metadata": {},
     "output_type": "execute_result"
    }
   ],
   "execution_count": 37
  },
  {
   "metadata": {
    "ExecuteTime": {
     "end_time": "2024-12-23T19:24:38.069843Z",
     "start_time": "2024-12-23T19:24:38.065115Z"
    }
   },
   "cell_type": "code",
   "source": "atolye.lower()",
   "id": "4b86de349720d4ae",
   "outputs": [
    {
     "data": {
      "text/plain": [
       "'hi kod veri bilimi atölyesi'"
      ]
     },
     "execution_count": 38,
     "metadata": {},
     "output_type": "execute_result"
    }
   ],
   "execution_count": 38
  },
  {
   "metadata": {
    "ExecuteTime": {
     "end_time": "2024-12-23T19:26:41.322359Z",
     "start_time": "2024-12-23T19:26:41.317775Z"
    }
   },
   "cell_type": "code",
   "source": [
    "sayi =\"0123456789\"\n",
    "sayi[0:9:2]"
   ],
   "id": "d50f7e0b215db03b",
   "outputs": [
    {
     "data": {
      "text/plain": [
       "'02468'"
      ]
     },
     "execution_count": 41,
     "metadata": {},
     "output_type": "execute_result"
    }
   ],
   "execution_count": 41
  },
  {
   "metadata": {
    "ExecuteTime": {
     "end_time": "2024-12-23T19:27:09.705452Z",
     "start_time": "2024-12-23T19:27:09.700748Z"
    }
   },
   "cell_type": "code",
   "source": "sayi[1::2]",
   "id": "7dc8968b3837d5fd",
   "outputs": [
    {
     "data": {
      "text/plain": [
       "'13579'"
      ]
     },
     "execution_count": 43,
     "metadata": {},
     "output_type": "execute_result"
    }
   ],
   "execution_count": 43
  },
  {
   "metadata": {},
   "cell_type": "code",
   "outputs": [],
   "execution_count": null,
   "source": "",
   "id": "82c4428ab470a3b5"
  }
 ],
 "metadata": {
  "kernelspec": {
   "display_name": "Python 3 (ipykernel)",
   "language": "python",
   "name": "python3"
  },
  "language_info": {
   "codemirror_mode": {
    "name": "ipython",
    "version": 3
   },
   "file_extension": ".py",
   "mimetype": "text/x-python",
   "name": "python",
   "nbconvert_exporter": "python",
   "pygments_lexer": "ipython3",
   "version": "3.9.12"
  }
 },
 "nbformat": 4,
 "nbformat_minor": 5
}
